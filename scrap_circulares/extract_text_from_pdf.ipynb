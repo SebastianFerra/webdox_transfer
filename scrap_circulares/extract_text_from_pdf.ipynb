{
 "cells": [
  {
   "cell_type": "code",
   "execution_count": 4,
   "metadata": {},
   "outputs": [],
   "source": [
    "from paddleocr import PaddleOCR, draw_ocr\n",
    "import pytesseract\n",
    "import paddle\n",
    "import pandas as pd\n",
    "import os\n",
    "import sys\n",
    "\n",
    "pytesseract.pytesseract.tesseract_cmd = r'/opt/homebrew/bin/tesseract'"
   ]
  },
  {
   "cell_type": "code",
   "execution_count": 5,
   "metadata": {},
   "outputs": [
    {
     "name": "stdout",
     "output_type": "stream",
     "text": [
      "Model loaded successfully\n",
      "Fonth path  successfully\n",
      "GPU available: False\n"
     ]
    }
   ],
   "source": [
    "def download_and_load_models():\n",
    "    \"\"\"Need to run only once to download and load model into memory.\n",
    "    English model works better than Spanish in most cases.\"\"\"\n",
    "    try:\n",
    "        ocr = PaddleOCR(use_angle_cls=True, lang='en',use_gpu=False, show_log = False) # ,show_log = False\n",
    "        print(\"Model loaded successfully\")\n",
    "        font_path = os.path.join('PaddleOCR', 'doc', 'fonts', 'latin.ttf')\n",
    "        print(\"Fonth path  successfully\")\n",
    "        return ocr\n",
    "        \n",
    "    except Exception as e:\n",
    "        print(f\"An error occurred while loading the model: {e}\", file=sys.stderr)\n",
    "\n",
    "ocr = download_and_load_models()\n",
    "\n",
    "def detect_entities_in_image(ocr,img_path):\n",
    "    result = ocr.ocr(img_path, cls=True)\n",
    "    entities_ocr_output = []\n",
    "    ocr_output = []\n",
    "    for idx in range(len(result)):\n",
    "        res = result[idx]\n",
    "        if res is not None:\n",
    "            for line in res:\n",
    "                ocr_output.append(line)\n",
    "                entities_ocr_output.append(line[1])\n",
    "    contract = \"\"\n",
    "    for text,confidence in entities_ocr_output:\n",
    "        if confidence > 0.8:\n",
    "            contract += text + \"\\n\"\n",
    "    return contract\n",
    "\n",
    "gpu_available  = paddle.device.is_compiled_with_cuda()\n",
    "print(\"GPU available:\", gpu_available)\n",
    "\n"
   ]
  },
  {
   "cell_type": "code",
   "execution_count": null,
   "metadata": {},
   "outputs": [
    {
     "name": "stdout",
     "output_type": "stream",
     "text": [
      "'jLICIIA ArUKIES CUMPLIMIENIU VECKEIU Lty\\nVALORES y SEGUROS\\n.1.757,\\nMODIFICADO POR DECRETO LEY N\\n.245, POR EL MES DE ENERO DE 1981.\\nCHILE\\nCONTRALORIA\\ntontrol Cpos. Bomberos\\n AAA/AAB/bgr\\nIRCULAR N001\\nPari todas\\' lds Entidades Aseguradoras Nacionale\\nEntranjeras del Primer Grupo\\nSANTIAGO, 12 de Enero de 1981.\\nSENOR GERENTE :\\nMe permito comunicar a ld. que las sumas\\nque se indican en la presente Circular, son aquellas que corresponde co\\nbrar a este Servicio a todas las Entidades Aseguradoras Nacionales y Ex\\ntranjeras del Primer Grupo, en conformidad a los articulos 3o y 4o del\\nDecreto Ley No 1.757, de 1977, modificado por el Decreto Ley No 2.245,\\nde 1918, relacionadas con las rentas vitalicias y otros gastos que esta\\nSuperintendencia debe cancelar por el mes de Enero del ano en curso, de\\nacuerdo al siguiente detalle :\\nRentas vitalicias del mes de Enero de 1981.\\n$\\n955.279,21\\nDiferencia por aumento de la incapacidad fi\\nsica en el mes de Diciembre del voluntario\\ndel Cuerpo de Bomberos de Parral, senor Ro-\\ndolfo Molina Carrasco.\\n$\\n1.418,55\\nSubsidio al senor Waldemar Balkenhol Diaz,\\nvoluntario del Cuerpo de Bomberos de Puerto\\nMontt.\\n$\\n12.584,35\\nSubsidio al seror Omar Llanquepe Velasco, vo\\nluntario del Cuerpo de Bomberos de Puerto\\nMontt.\\n$\\n11.530,52\\nSubsidio al senor Luis Poblete Olate, cuar-\\ntelero del Cuerpo de Bomberos de Concepcion\\n$\\n35.144,82\\nSubsidio al senor Humberto Salinas Valdes,\\nvoluntario del Cuerpo de Bomberos de Talca.\\n$\\n17.634,76\\nCancelacion honorarios medicos al doctor Ma\\nrio Duran Pena, por servicios profesionales\\nprestados al voluntario del Cuerpo de Bombe\\nros de Talcahuano senor Leonidas Ayala Cis-\\nternas.\\n$\\n20.000,00\\nCancelacion gastos de medicamentos a la \"Far\\nmacia Doggenweiler\" de Puerto Montt, para el\\nvoluntario del Cuerpo de Bomberos de Puerto\\nMontt senor Luis Ojeda Vargas.\\n$\\n1.641,00\\n01\\n$\\n1.055.233, 21\\nSUPERINTENDENCIA DE\\nVALORES y SEGUROS\\nCHILE\\nSe hace presente a los seiieres Gerentes.\\nde. las,Entidades Aseguradoras, que deberan enviar los siguientes apor\\ntes DENTRO DE LOS TRES DIAS HABILES A CONTAR DESDE LA RECEPCION DE ES\\nTA circular. Este plazo, para las Instituciones Aseguradoras de Pro-\\nvincia, sera controlado mediante Lista Oficial de Certificados del.\\nServicio de Correos. El no cumplimiento de esta obligacion dentro\\ndel plazo indicado, dara margen a las sanciones que establece el ar-\\nticulo 44o del Decreto con Fuerza de ley No 251, de 1931 :\\nCOMPANIAS NACIONALES\\nACCION SOCIAL\\n$\\n4.570,00\\nACONCAGUA\\n$\\n4.400,00\\nALBORADA\\n$\\n27.180,00\\nAMERICANA\\n$\\n9.240,00\\nARAUCANIA\\n16.540,00\\nASEGUIRADORA DE MAGALLANES\\n$\\n180,00\\nAUSTRAL\\n4.610,00\\nAUXILIADORA\\n$\\n1.840,00\\nB.H.C.\\n$\\n43.810,00\\nBRITANICA\\n$\\n5.220,00\\nCONDOR\\n$\\n7.790,00\\nCONSORCIO NACIONAL DE SEGUROS\\n$\\n81.900,00\\nCONSTRUCCION\\n$\\n2.700,00\\nCORDI LLERA\\n$\\n420,00\\nCORPORACION GARANTIZADORA\\n$\\n16.153,00\\nCRUZ DEL SUR\\n$\\n29.170,00\\nCHILENA CONSOLIDADA\\n$\\n68.440,00\\nEMPART\\n$\\n36.160,00\\nESPANOLA\\n24.150,00\\nFENIX CHILENA\\n13.210,00\\nFRANCISCO DE AGUIRRE\\n$\\n5.000,00\\nHISPANO CHILENA\\n$\\n1.560,00\\nINA KAPPES\\n$\\n27.610,00\\nITALIA\\n$\\n11.360,00\\nMANUEL RODRIGUEZ\\n$\\n4.040,00\\nMARITIMA\\n$\\n1.380,00\\nMERCANTIL\\n$\\n160,00\\nMINERA\\n02\\n$\\n1.340,00\\nMINERVA\\n$\\n3.630,00\\nSUPERINTENDENCIA DE\\n1!.. 3\\nVALORES y SEGUROS\\nCHILE\\nPEDRO DE VALDIVIA\\n$\\n4.780,00\\nPHILADELPHIA CONSOLIDADA\\n$\\n3.130,00\\nPREVISION\\n16.930,00\\nPREVISORA\\n$\\n5.550,00\\nPROTECTORA\\n1.800,00\\nPROVINCIAS DEL NORTE\\n$\\n670,00\\nREAL CHILENA\\n$\\n10.020,00\\nREGIONAL\\n$\\n1.710,00\\nREPUBLICA\\n$\\n5.000,00\\nSANTIAGO\\n4.260,00\\nSOL VE CHILE\\n$\\n3.680,00\\nSUR DE CHILE\\n$\\n4.010,00\\nTUCAPEL\\n$\\n4.290,00\\nUNION AMERICANA\\n$\\n2.840,00\\nUNION ESPANOLA\\n$\\n9.320,00\\nUNION ITALO CHILENA\\n$\\n12.740,00\\nVINA DEL MAR\\n$\\n3.340,00\\nZONA SUR\\n$\\n2.170,00\\nAGENCIAS EXTRANJERAS\\nCOMMERCIAL UNTON\\n$\\n5.640,00\\nGUARDIAN ASSURANCE\\n$\\n4.610,00\\nHOME INSURANCE\\n$\\n55.420,00\\nROYAL INSURANCE\\n$\\n10.250,00\\nOTRAS ENTIDADES\\nCAJA REASEGURADORA DE CHILE\\n$  307.120,00\\nCOOP. DE SERVICIOS DE SEGUROS\\ny PREVISION - COOPREV\\n$\\n1.780,00\\nCOOP. DE USUARIOS DE SEGUROS\\nGENERALES - COOPSEGUROS DE CHILE\\n$\\n9.830,00\\nCOOP. NACIONAL DE SEGUROS -.CONASE\\n$\\n26.350,00\\nINSTITUTO DE SEGUROS DEL ESTADO\\n$\\n59.970,21\\nMU\\'TUALIDAD DE.CARABINEROS\\n$\\n10.910,00\\nSOCIEDAD COOP. AUTO SEGURO\\n$\\n1.350,00\\n03\\n$1.055.233,21\\nSUPERINTENDENCIA DE\\nII..\\nVALORESy SEGUROS\\nCHILE\\nLas sumas correspondientes a la presente\\ncircular, deberin enviarse separadamente de cualquiera otra cantidad\\nsenalada en Circulares diferentes de esta Superintendencia.\\nSaluda atentamente a ud.\\nARSEI\\nLa Circular No 1.617 (Registro de Entidades Reaseguradoras y Corredo-\\nres de Reaseguros Extranjeros), fue enviada a todas las Entidades Ase\\ngwradoras que operan en Chile.\\n04\\n'\n"
     ]
    }
   ],
   "source": [
    "raw_text = detect_entities_in_image(ocr, \"pdf_recpt/CIR_1_1981_01_12.pdf\")\n",
    "print(repr(raw_text))\n"
   ]
  },
  {
   "cell_type": "code",
   "execution_count": null,
   "metadata": {},
   "outputs": [],
   "source": [
    "pdf = pypdf.PdfcdReader(open(pdf_path, \"rb\"))"
   ]
  },
  {
   "cell_type": "code",
   "execution_count": 33,
   "metadata": {},
   "outputs": [
    {
     "name": "stdout",
     "output_type": "stream",
     "text": [
      " \n",
      " \n",
      " \n",
      " \n",
      "REF.: Comunica tasa de interés de \n",
      "actualización – Abril 2023.  \n",
      "__________________________ \n",
      " \n",
      " \n",
      "OFICIO CIRCULAR Nº 1281 \n",
      " \n",
      "9 de marzo de 2023 \n",
      " \n",
      "A todas las entidades de seguros del segundo grupo \n",
      " \n",
      "El artículo 55º del D.L. Nº 3.500, de 1980, \n",
      "establece que la Comisión para el Mercado Financiero debe señalar la tasa de interés \n",
      "de actualización que se utilizará para el cálculo de los capitales que financien las \n",
      "pensiones de referencia de los afiliados al sistema previsional, creado por el decreto  \n",
      "ley mencionado, que estén en condiciones de generar pensiones de invalidez o \n",
      "sobrevivencia. \n",
      "Al respecto, cumplo con informar que la tasa de \n",
      "interés de actualización aplicable a los siniestros de los afiliados, cuya fecha de \n",
      "fallecimiento o aquella en que quede ejecutoriad o el único o segundo dictamen de \n",
      "invalidez, según corresponda, ocurra en el mes de abril de 2023, es 3,20% real anual. \n",
      " \n",
      " \n",
      " \n",
      " \n",
      "MVC/MAC/PEA \n",
      " \n",
      "\n",
      "#####3\n"
     ]
    }
   ],
   "source": [
    "import pypdf\n",
    "pdf = pypdf.PdfReader(open(\"pdf_recpt/OFC_1281_2023_03_09.pdf\", \"rb\"))\n",
    "for item in pdf.pages:\n",
    "    print(item.extract_text())\n",
    "    print(\"#####3\")"
   ]
  }
 ],
 "metadata": {
  "kernelspec": {
   "display_name": "ocr1",
   "language": "python",
   "name": "python3"
  },
  "language_info": {
   "codemirror_mode": {
    "name": "ipython",
    "version": 3
   },
   "file_extension": ".py",
   "mimetype": "text/x-python",
   "name": "python",
   "nbconvert_exporter": "python",
   "pygments_lexer": "ipython3",
   "version": "3.11.9"
  }
 },
 "nbformat": 4,
 "nbformat_minor": 2
}
